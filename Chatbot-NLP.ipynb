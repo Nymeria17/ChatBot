{
 "cells": [
  {
   "cell_type": "code",
   "execution_count": 2,
   "id": "afa77143-4aa1-40ab-be00-1cf35dbd68ef",
   "metadata": {},
   "outputs": [
    {
     "name": "stdout",
     "output_type": "stream",
     "text": [
      "Requirement already satisfied: nltk in c:\\users\\fc\\anaconda3\\lib\\site-packages (3.9.1)\n",
      "Requirement already satisfied: click in c:\\users\\fc\\anaconda3\\lib\\site-packages (from nltk) (8.1.7)\n",
      "Requirement already satisfied: joblib in c:\\users\\fc\\anaconda3\\lib\\site-packages (from nltk) (1.4.2)\n",
      "Requirement already satisfied: regex>=2021.8.3 in c:\\users\\fc\\anaconda3\\lib\\site-packages (from nltk) (2024.9.11)\n",
      "Requirement already satisfied: tqdm in c:\\users\\fc\\anaconda3\\lib\\site-packages (from nltk) (4.66.5)\n",
      "Requirement already satisfied: colorama in c:\\users\\fc\\anaconda3\\lib\\site-packages (from click->nltk) (0.4.6)\n"
     ]
    }
   ],
   "source": [
    "#installing nltk\n",
    "!pip install nltk"
   ]
  },
  {
   "cell_type": "code",
   "execution_count": 3,
   "id": "a17298d8-0c84-493a-aaf8-24afc922cd2f",
   "metadata": {},
   "outputs": [],
   "source": [
    "#importing libraries\n",
    "import nltk\n",
    "import random\n",
    "from nltk.chat.util import Chat, reflections"
   ]
  },
  {
   "cell_type": "code",
   "execution_count": 4,
   "id": "7f97c195-11e1-4b18-a06a-26ac05fc3c19",
   "metadata": {},
   "outputs": [
    {
     "name": "stderr",
     "output_type": "stream",
     "text": [
      "[nltk_data] Downloading package punkt to\n",
      "[nltk_data]     C:\\Users\\FC\\AppData\\Roaming\\nltk_data...\n",
      "[nltk_data]   Package punkt is already up-to-date!\n"
     ]
    },
    {
     "data": {
      "text/plain": [
       "True"
      ]
     },
     "execution_count": 4,
     "metadata": {},
     "output_type": "execute_result"
    }
   ],
   "source": [
    "#downloading nltk data\n",
    "nltk.download('punkt')"
   ]
  },
  {
   "cell_type": "code",
   "execution_count": 5,
   "id": "a7fe40be-65c9-47c3-a139-4ee28f883447",
   "metadata": {},
   "outputs": [],
   "source": [
    "#defining ptterns and responses\n",
    "pairs = [\n",
    "    [\n",
    "        r\"hi|hello|hey\",\n",
    "        [\"Hello! How can I help you?\", \"Hey there!\", \"Hi! What can I do for you?\"]\n",
    "    ],\n",
    "    [\n",
    "        r\"how are you ?\",\n",
    "        [\"I'm doing well, thanks for asking!\", \"I'm great! How about you?\"]\n",
    "    ],\n",
    "    [\n",
    "        r\"what is your name ?\",\n",
    "        [\"You can call me ChatBot!\", \"I'm your friendly ChatBot!\"]\n",
    "    ],\n",
    "    [\n",
    "        r\"quit|bye|exit\",\n",
    "        [\"Goodbye! Have a great day!\", \"Nice talking to you! Bye!\"]\n",
    "    ],\n",
    "    [\n",
    "        r\"my name is (.*)\",\n",
    "        [\"Nice to meet you %1!\", \"Hello %1! How can I help you today?\"]\n",
    "    ],\n",
    "    [\n",
    "        r\"i need (.*)\",\n",
    "        [\"Why do you need %1?\", \"How can I help you with %1?\"]\n",
    "    ],\n",
    "    [\n",
    "        r\"can you help me (.*)\\?\",\n",
    "        [\"Sure, I'd be happy to help with %1!\", \"I'll do my best to assist with %1.\"]\n",
    "    ],\n",
    "    [\n",
    "        r\"tell me about (.*)\",\n",
    "        [\"%1 is an interesting topic! What specifically would you like to know?\"]\n",
    "    ],\n",
    "    [\n",
    "        r\"how (.*) work\\?\",\n",
    "        [\"The workings of %1 can be complex. Could you be more specific?\"]\n",
    "    ],\n",
    "    [\n",
    "        r\"what (.*)\",\n",
    "        [\"Why do you ask about %1?\", \"What do you think about %1 yourself?\"]\n",
    "    ],\n",
    "    [\n",
    "        r\"(.*) thank you (.*)\",\n",
    "        [\"You're welcome!\", \"Glad I could help!\"]\n",
    "    ],\n",
    "    [\n",
    "        r\"(.*)\",\n",
    "        [\"I'm not sure I understand. Could you rephrase that?\", \n",
    "         \"Interesting! Tell me more about that.\"]\n",
    "    ]\n",
    "]"
   ]
  },
  {
   "cell_type": "code",
   "execution_count": 6,
   "id": "805a4690-a122-4325-a399-0edf5f03dd5d",
   "metadata": {},
   "outputs": [],
   "source": [
    "#creating chatbot\n",
    "def simple_chatbot():\n",
    "    print(\"Hi! I'm a simple chatbot. Type 'quit' to exit.\")\n",
    "    chat = Chat(pairs, reflections)\n",
    "    chat.converse()"
   ]
  },
  {
   "cell_type": "code",
   "execution_count": null,
   "id": "6808c062-0357-4a99-8839-f16b7d2bcd48",
   "metadata": {},
   "outputs": [
    {
     "name": "stdout",
     "output_type": "stream",
     "text": [
      "Hi! I'm a simple chatbot. Type 'quit' to exit.\n"
     ]
    },
    {
     "name": "stdin",
     "output_type": "stream",
     "text": [
      "> Hello\n"
     ]
    },
    {
     "name": "stdout",
     "output_type": "stream",
     "text": [
      "Hi! What can I do for you?\n"
     ]
    },
    {
     "name": "stdin",
     "output_type": "stream",
     "text": [
      "> I need help\n"
     ]
    },
    {
     "name": "stdout",
     "output_type": "stream",
     "text": [
      "Why do you need help?\n"
     ]
    },
    {
     "name": "stdin",
     "output_type": "stream",
     "text": [
      "> In my learning\n"
     ]
    },
    {
     "name": "stdout",
     "output_type": "stream",
     "text": [
      "I'm not sure I understand. Could you rephrase that?\n"
     ]
    },
    {
     "name": "stdin",
     "output_type": "stream",
     "text": [
      "> Yes\n"
     ]
    },
    {
     "name": "stdout",
     "output_type": "stream",
     "text": [
      "I'm not sure I understand. Could you rephrase that?\n"
     ]
    }
   ],
   "source": [
    "#starting chatbot\n",
    "if __name__ == \"__main__\":\n",
    "    simple_chatbot()"
   ]
  },
  {
   "cell_type": "code",
   "execution_count": null,
   "id": "224002d3-360d-4982-866f-2ec08e28de93",
   "metadata": {},
   "outputs": [],
   "source": []
  }
 ],
 "metadata": {
  "kernelspec": {
   "display_name": "Python [conda env:base] *",
   "language": "python",
   "name": "conda-base-py"
  },
  "language_info": {
   "codemirror_mode": {
    "name": "ipython",
    "version": 3
   },
   "file_extension": ".py",
   "mimetype": "text/x-python",
   "name": "python",
   "nbconvert_exporter": "python",
   "pygments_lexer": "ipython3",
   "version": "3.12.7"
  }
 },
 "nbformat": 4,
 "nbformat_minor": 5
}
